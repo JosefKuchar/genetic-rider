{
 "cells": [
  {
   "cell_type": "code",
   "execution_count": 9,
   "metadata": {},
   "outputs": [],
   "source": [
    "import win32gui\n",
    "from PIL import ImageGrab\n",
    "windowID = win32gui.FindWindow(None, 'NoxPlayer')"
   ]
  },
  {
   "cell_type": "code",
   "execution_count": 11,
   "metadata": {},
   "outputs": [
    {
     "data": {
      "image/png": "[encoded data removed]",
      "text/plain": [
       "<IPython.core.display.Image object>"
      ]
     },
     "execution_count": 11,
     "metadata": {},
     "output_type": "execute_result"
    }
   ],
   "source": [
    "from IPython.display import Image\n",
    "\n",
    "windowCoordinates = win32gui.GetWindowRect(windowID)\n",
    "\n",
    "windowBarHeight = 30\n",
    "borderWeight = 2\n",
    "\n",
    "width = windowCoordinates[2] - windowCoordinates[0] - borderWeight*2\n",
    "height = windowCoordinates[3] - windowCoordinates[1] - windowBarHeight - borderWeight\n",
    "\n",
    "x1 = windowCoordinates[0] + borderWeight + int(width / 1.4)\n",
    "x2 = windowCoordinates[2] - borderWeight\n",
    "y1 = windowCoordinates[1] + windowBarHeight + int(height/20)\n",
    "y2 = y1 + int(height / 30)\n",
    "\n",
    "img = ImageGrab.grab((x1, y1, x2, y2))\n",
    "img.save(\"test.png\")\n",
    "Image(filename=\"test.png\")"
   ]
  },
  {
   "cell_type": "code",
   "execution_count": 12,
   "metadata": {},
   "outputs": [
    {
     "data": {
      "image/png": "[encoded data removed]",
      "text/plain": [
       "<IPython.core.display.Image object>"
      ]
     },
     "execution_count": 12,
     "metadata": {},
     "output_type": "execute_result"
    }
   ],
   "source": [
    "windowCoordinates = win32gui.GetWindowRect(windowID)\n",
    "\n",
    "width = windowCoordinates[2] - windowCoordinates[0] - borderWeight*2\n",
    "height = windowCoordinates[3] - windowCoordinates[1] - windowBarHeight - borderWeight\n",
    "\n",
    "x1 = windowCoordinates[0] + borderWeight + int(width/7)\n",
    "x2 = x1 + int(width/3.5)\n",
    "y1 = windowCoordinates[1] + windowBarHeight + int(height/3.3)\n",
    "y2 = y1 + int(height/22)\n",
    "\n",
    "img = ImageGrab.grab((x1, y1, x2, y2))\n",
    "img.save(\"test2.png\")\n",
    "Image(filename=\"test2.png\")"
   ]
  },
  {
   "cell_type": "code",
   "execution_count": 18,
   "metadata": {},
   "outputs": [
    {
     "name": "stdout",
     "output_type": "stream",
     "text": [
      "NORMAL\n",
      "(36, 51, 54)\n"
     ]
    }
   ],
   "source": [
    "windowCoordinates = win32gui.GetWindowRect(windowID)\n",
    "x1 = windowCoordinates[0] + borderWeight\n",
    "x2 = x1 + 1\n",
    "y1 = windowCoordinates[1] + windowBarHeight\n",
    "y2 = y1 + 1\n",
    "color = ImageGrab.grab((x1, y1, x2, y2)).getpixel((0,0))\n",
    "\n",
    "if color == (7, 10, 11):\n",
    "    print(\"END\")\n",
    "else:\n",
    "    print(\"NORMAL\")\n",
    "print(color)"
   ]
  },
  {
   "cell_type": "code",
   "execution_count": 44,
   "metadata": {},
   "outputs": [
    {
     "name": "stdout",
     "output_type": "stream",
     "text": [
      "80 28 5 5\n",
      "80 18 5 5\n",
      "89 8 5 30\n",
      "45 8 5 30\n",
      "98 7 23 31\n",
      "54 7 23 31\n",
      "True\n"
     ]
    }
   ],
   "source": [
    "import cv2\n",
    "import numpy\n",
    "import imutils\n",
    "\n",
    "windowCoordinates = win32gui.GetWindowRect(windowID)\n",
    "\n",
    "width = windowCoordinates[2] - windowCoordinates[0] - borderWeight*2\n",
    "height = windowCoordinates[3] - windowCoordinates[1] - windowBarHeight - borderWeight\n",
    "\n",
    "x1 = windowCoordinates[0] + borderWeight + int(width/7)\n",
    "x2 = x1 + int(width/3.5)\n",
    "y1 = windowCoordinates[1] + windowBarHeight + int(height/3.3)\n",
    "y2 = y1 + int(height/22)\n",
    "\n",
    "img = numpy.array(ImageGrab.grab((x1, y1, x2, y2)))\n",
    "img = cv2.cvtColor(img, cv2.COLOR_RGB2GRAY)\n",
    "(_, threshold) = cv2.threshold(img,127,255,cv2.THRESH_BINARY)\n",
    "\n",
    "contours = cv2.findContours(threshold.copy(), cv2.RETR_EXTERNAL, cv2.CHAIN_APPROX_SIMPLE)\n",
    "contours = contours[0] if imutils.is_cv2() else contours[1]\n",
    "\n",
    "for contour in contours:\n",
    "    (x, y, w, h) = cv2.boundingRect(contour)\n",
    "    print(x,y,w,h)\n",
    "    cv2.imwrite(\"test\" + str(x*y) + \".png\", threshold[x:(x + w), y:(y + h)])\n",
    "    \n",
    "\n",
    "print(cv2.imwrite(\"image.png\", threshold))"
   ]
  }
 ],
 "metadata": {
  "kernelspec": {
   "display_name": "Python 3",
   "language": "python",
   "name": "python3"
  },
  "language_info": {
   "codemirror_mode": {
    "name": "ipython",
    "version": 3
   },
   "file_extension": ".py",
   "mimetype": "text/x-python",
   "name": "python",
   "nbconvert_exporter": "python",
   "pygments_lexer": "ipython3",
   "version": "3.6.1"
  }
 },
 "nbformat": 4,
 "nbformat_minor": 2
}
