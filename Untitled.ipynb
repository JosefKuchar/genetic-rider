{
 "cells": [
  {
   "cell_type": "code",
   "execution_count": 76,
   "metadata": {},
   "outputs": [
    {
     "name": "stdout",
     "output_type": "stream",
     "text": [
      "(1152, 392, 1487, 1014)\n",
      "(1152, 392, 1487, 1014)\n"
     ]
    }
   ],
   "source": [
    "import win32gui\n",
    "from PIL import ImageGrab\n",
    "windowID = win32gui.FindWindow(None, 'NoxPlayer')\n",
    "\n",
    "print(windowCoordinates)\n",
    "print((windowCoordinates[0], windowCoordinates[1], windowCoordinates[2], windowCoordinates[3]))"
   ]
  },
  {
   "cell_type": "code",
   "execution_count": 131,
   "metadata": {},
   "outputs": [
    {
     "data": {
      "image/png": "[encoded data removed]",
      "text/plain": [
       "<IPython.core.display.Image object>"
      ]
     },
     "execution_count": 131,
     "metadata": {},
     "output_type": "execute_result"
    }
   ],
   "source": [
    "from IPython.display import Image\n",
    "\n",
    "windowCoordinates = win32gui.GetWindowRect(windowID)\n",
    "\n",
    "windowBarHeight = 30\n",
    "borderWeight = 2\n",
    "\n",
    "width = windowCoordinates[2] - windowCoordinates[0] - borderWeight*2\n",
    "height = windowCoordinates[3] - windowCoordinates[1] - windowBarHeight - borderWeight\n",
    "\n",
    "x1 = windowCoordinates[0] + borderWeight + int(width / 1.4)\n",
    "x2 = windowCoordinates[2] - borderWeight\n",
    "y1 = windowCoordinates[1] + windowBarHeight + int(height/20)\n",
    "y2 = y1 + int(height / 30)\n",
    "\n",
    "img = ImageGrab.grab((x1, y1, x2, y2))\n",
    "img.save(\"test.png\")\n",
    "Image(filename=\"test.png\")"
   ]
  },
  {
   "cell_type": "code",
   "execution_count": 203,
   "metadata": {},
   "outputs": [
    {
     "data": {
      "image/png": "[encoded data removed]",
      "text/plain": [
       "<IPython.core.display.Image object>"
      ]
     },
     "execution_count": 203,
     "metadata": {},
     "output_type": "execute_result"
    }
   ],
   "source": [
    "windowCoordinates = win32gui.GetWindowRect(windowID)\n",
    "\n",
    "width = windowCoordinates[2] - windowCoordinates[0] - borderWeight*2\n",
    "height = windowCoordinates[3] - windowCoordinates[1] - windowBarHeight - borderWeight\n",
    "\n",
    "x1 = windowCoordinates[0] + borderWeight + int(width/7)\n",
    "x2 = x1 + int(width/3.5)\n",
    "y1 = windowCoordinates[1] + windowBarHeight + int(height/3.3)\n",
    "y2 = y1 + int(height/22)\n",
    "\n",
    "img = ImageGrab.grab((x1, y1, x2, y2))\n",
    "img.save(\"test2.png\")\n",
    "Image(filename=\"test2.png\")"
   ]
  },
  {
   "cell_type": "code",
   "execution_count": 196,
   "metadata": {},
   "outputs": [
    {
     "name": "stdout",
     "output_type": "stream",
     "text": [
      "NORMAL\n",
      "(36, 51, 54)\n"
     ]
    }
   ],
   "source": [
    "windowCoordinates = win32gui.GetWindowRect(windowID)\n",
    "x1 = windowCoordinates[0] + borderWeight\n",
    "x2 = x1 + 1\n",
    "y1 = windowCoordinates[1] + windowBarHeight\n",
    "y2 = y1 + 1\n",
    "color = ImageGrab.grab((x1, y1, x2, y2)).getpixel((0,0))\n",
    "\n",
    "if color == (7, 10, 11):\n",
    "    print(\"END\")\n",
    "else:\n",
    "    print(\"NORMAL\")\n",
    "print(color)"
   ]
  },
  {
   "cell_type": "code",
   "execution_count": null,
   "metadata": {},
   "outputs": [],
   "source": []
  }
 ],
 "metadata": {
  "kernelspec": {
   "display_name": "Python 3",
   "language": "python",
   "name": "python3"
  },
  "language_info": {
   "codemirror_mode": {
    "name": "ipython",
    "version": 3
   },
   "file_extension": ".py",
   "mimetype": "text/x-python",
   "name": "python",
   "nbconvert_exporter": "python",
   "pygments_lexer": "ipython3",
   "version": "3.6.1"
  }
 },
 "nbformat": 4,
 "nbformat_minor": 2
}
